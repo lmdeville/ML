{
 "cells": [
  {
   "cell_type": "code",
   "execution_count": 1,
   "id": "35dfb69e-78cc-45a4-8b0a-94607f777f67",
   "metadata": {},
   "outputs": [],
   "source": [
    "import scipy.io\n",
    "import pandas as pd\n",
    "import numpy as np\n",
    "from matplotlib import pyplot as plt\n",
    "from skimage.transform import rescale, resize, downscale_local_mean\n",
    "from sklearn.model_selection import train_test_split\n",
    "from sklearn.ensemble import RandomForestClassifier\n",
    "from sklearn.metrics import recall_score, precision_score, RocCurveDisplay, confusion_matrix, roc_curve\n",
    "\n",
    "#Import Data\n",
    "\n",
    "mat = scipy.io.loadmat('digits.mat')\n",
    "mat = {k:v for k, v in mat.items() if k[0] != '_'}\n",
    "for i in mat:\n",
    "        if '__' not in i and 'readme' not in i:\n",
    "              np.savetxt((\"filetest.csv\"),mat[i],delimiter=',')\n",
    "                \n",
    "df = pd.DataFrame(mat['X'])\n",
    "df['label'] = mat['y']\n",
    "\n",
    "\n",
    "def plot_confusion_matrix(cm, title='Confusion matrix', cmap='Pastel1'):\n",
    "    plt.figure(figsize=(9,9))\n",
    "    plt.imshow(cm, interpolation='nearest', cmap=cmap)\n",
    "    plt.title(title, size = 15)\n",
    "    plt.colorbar()\n",
    "    tick_marks = np.arange(10)\n",
    "    plt.xticks(tick_marks, [\"0\", \"1\", \"2\", \"3\", \"4\", \"5\", \"6\", \"7\", \"8\", \"9\"], rotation=45, size = 10)\n",
    "    plt.yticks(tick_marks, [\"0\", \"1\", \"2\", \"3\", \"4\", \"5\", \"6\", \"7\", \"8\", \"9\"], size = 10)\n",
    "    plt.tight_layout()\n",
    "    plt.ylabel('Actual label', size = 15)\n",
    "    plt.xlabel('Predicted label', size = 15)\n",
    "    width, height = cm.shape\n",
    "\n",
    "    for x in range(width):\n",
    "        for y in range(height):\n",
    "            plt.annotate(str(cm[x][y]), xy=(y, x), \n",
    "                        horizontalalignment='center',\n",
    "                        verticalalignment='center')"
   ]
  },
  {
   "cell_type": "code",
   "execution_count": null,
   "id": "c6a45997-cc79-4683-a490-7a4c7a90c09b",
   "metadata": {},
   "outputs": [],
   "source": [
    "y_train=to_categorical(y_train)\n",
    "y_test=to_categorical(y_test)\n",
    "y_val=to_categorical(y_val)"
   ]
  },
  {
   "cell_type": "code",
   "execution_count": null,
   "id": "cdf73477-d676-4c6d-ac16-d5dbd035a47b",
   "metadata": {},
   "outputs": [],
   "source": [
    "\n",
    "cnn_model = Sequential()\n",
    "\n",
    "# Filters = Units in Dense Total number of Neurons\n",
    "cnn_model.add(Convolution1D(filters = 64, kernel_size = 6, activation='relu', padding = 'same', input_shape = (X_train.shape[1], 1))) \n",
    "cnn_model.add(BatchNormalization())\n",
    "cnn_model.add(MaxPool1D(pool_size=(3), strides = (2), padding = 'same'))\n",
    "\n",
    "cnn_model.add(Convolution1D(filters = 64, kernel_size = 6, activation='relu', padding = 'same'))\n",
    "cnn_model.add(BatchNormalization())\n",
    "cnn_model.add(MaxPool1D(pool_size=(3), strides = (2), padding = 'same'))\n",
    "\n",
    "cnn_model.add(Convolution1D( filters = 64, kernel_size = 6, activation='relu', padding = 'same'))\n",
    "cnn_model.add(BatchNormalization())\n",
    "cnn_model.add(MaxPool1D(pool_size=(3), strides = (2), padding = 'same'))\n",
    "\n",
    "# Flatten \n",
    "cnn_model.add(Flatten())\n",
    "\n",
    "cnn_model.add(Dense(units = 64, activation='relu'))\n",
    "cnn_model.add(Dense(units = 64, activation='relu'))\n",
    "cnn_model.add(Dense(units = 5, activation='softmax'))\n",
    "\n",
    "# loss = 'categorical_crossentropy'\n",
    "cnn_model.compile(optimizer = 'adam', loss = 'categorical_crossentropy', metrics = ['accuracy'])\n",
    "cnn_model.summary()"
   ]
  }
 ],
 "metadata": {
  "kernelspec": {
   "display_name": "Python 3 (ipykernel)",
   "language": "python",
   "name": "python3"
  },
  "language_info": {
   "codemirror_mode": {
    "name": "ipython",
    "version": 3
   },
   "file_extension": ".py",
   "mimetype": "text/x-python",
   "name": "python",
   "nbconvert_exporter": "python",
   "pygments_lexer": "ipython3",
   "version": "3.9.12"
  }
 },
 "nbformat": 4,
 "nbformat_minor": 5
}
