{
 "cells": [
  {
   "cell_type": "code",
   "execution_count": 1,
   "id": "e82d0799",
   "metadata": {},
   "outputs": [],
   "source": [
    "import cv2\n",
    "from matplotlib import pyplot as plt"
   ]
  },
  {
   "cell_type": "code",
   "execution_count": null,
   "id": "640a9abf",
   "metadata": {},
   "outputs": [],
   "source": [
    "#takes 2 values - path of image and how to read the image, 1 indicates as is\n",
    "img = cv2.imread(path, )\n",
    "#shows image\n",
    "plt.imshow(img)"
   ]
  },
  {
   "cell_type": "code",
   "execution_count": null,
   "id": "22425045",
   "metadata": {},
   "outputs": [],
   "source": [
    "#c is channels, h is height, w is width\n",
    "h,w,c=img.shape\n",
    "print(h,w,c)\n",
    "print(type(img))"
   ]
  },
  {
   "cell_type": "code",
   "execution_count": null,
   "id": "f28692fe",
   "metadata": {},
   "outputs": [],
   "source": [
    "print(img.dtype)"
   ]
  },
  {
   "cell_type": "code",
   "execution_count": null,
   "id": "d800f83d",
   "metadata": {},
   "outputs": [],
   "source": [
    "gray = cv2.cvtColor(img.cv2.COLOR_BGR2GRAY)\n",
    "plt.imshow(gray)"
   ]
  },
  {
   "cell_type": "code",
   "execution_count": null,
   "id": "68e7dcd7",
   "metadata": {},
   "outputs": [],
   "source": []
  },
  {
   "cell_type": "code",
   "execution_count": 6,
   "id": "d6a20f45",
   "metadata": {},
   "outputs": [],
   "source": [
    "from sklearn import datasets"
   ]
  },
  {
   "cell_type": "markdown",
   "id": "6496500c",
   "metadata": {},
   "source": [
    "## MNIST data"
   ]
  },
  {
   "cell_type": "code",
   "execution_count": 7,
   "id": "89330734",
   "metadata": {},
   "outputs": [],
   "source": [
    "digits = datasets.load_digits()"
   ]
  },
  {
   "cell_type": "code",
   "execution_count": null,
   "id": "749e9679",
   "metadata": {},
   "outputs": [],
   "source": []
  },
  {
   "cell_type": "code",
   "execution_count": null,
   "id": "4742e3fd",
   "metadata": {},
   "outputs": [],
   "source": []
  },
  {
   "cell_type": "markdown",
   "id": "77bbb76a",
   "metadata": {},
   "source": [
    "## Feature Selection"
   ]
  },
  {
   "cell_type": "code",
   "execution_count": null,
   "id": "ad2f66eb",
   "metadata": {},
   "outputs": [],
   "source": [
    "#variance threshold\n",
    "#sklearn.feature_selection.VarianceThreshold(threshold=)"
   ]
  },
  {
   "cell_type": "code",
   "execution_count": null,
   "id": "2e2733b3",
   "metadata": {},
   "outputs": [],
   "source": [
    "#entropy\n",
    "\n",
    "#how much info is this feature giving ur data"
   ]
  }
 ],
 "metadata": {
  "kernelspec": {
   "display_name": "Python 3 (ipykernel)",
   "language": "python",
   "name": "python3"
  },
  "language_info": {
   "codemirror_mode": {
    "name": "ipython",
    "version": 3
   },
   "file_extension": ".py",
   "mimetype": "text/x-python",
   "name": "python",
   "nbconvert_exporter": "python",
   "pygments_lexer": "ipython3",
   "version": "3.10.4"
  }
 },
 "nbformat": 4,
 "nbformat_minor": 5
}
